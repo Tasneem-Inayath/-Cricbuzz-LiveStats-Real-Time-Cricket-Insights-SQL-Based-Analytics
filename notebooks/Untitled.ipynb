{
 "cells": [
  {
   "cell_type": "code",
   "execution_count": 2,
   "id": "1dc6e76e-76d9-4a59-8206-6b404e94936b",
   "metadata": {},
   "outputs": [
    {
     "name": "stdout",
     "output_type": "stream",
     "text": [
      "c:\\Users\\Tasneem Inayath\\capstone project 1\\.venv\\Scripts\\python.exe\n",
      "3.13.7 (tags/v3.13.7:bcee1c3, Aug 14 2025, 14:15:11) [MSC v.1944 64 bit (AMD64)]\n"
     ]
    }
   ],
   "source": [
    "import sys\n",
    "print(sys.executable)\n",
    "print(sys.version)"
   ]
  },
  {
   "cell_type": "code",
   "execution_count": 1,
   "id": "c7b43ac7",
   "metadata": {},
   "outputs": [
    {
     "name": "stdout",
     "output_type": "stream",
     "text": [
      "hello\n"
     ]
    }
   ],
   "source": [
    "print(\"hello\")"
   ]
  },
  {
   "cell_type": "code",
   "execution_count": null,
   "id": "5bc53c5e",
   "metadata": {},
   "outputs": [],
   "source": [
    "!streamlit run homepage.py"
   ]
  },
  {
   "cell_type": "code",
   "execution_count": 6,
   "id": "658e1219",
   "metadata": {},
   "outputs": [],
   "source": [
    "import requests\n",
    "\n",
    "url = \"https://cricbuzz-cricket.p.rapidapi.com/matches/v1/live\"\n",
    "\n",
    "headers = {\n",
    "\t\"x-rapidapi-key\": \"3eaece787amshfe1adf78b14d67bp1c781fjsnebfd830416ef\",\n",
    "\t\"x-rapidapi-host\": \"cricbuzz-cricket.p.rapidapi.com\"\n",
    "}\n",
    "\n",
    "response = requests.get(url, headers=headers)\n",
    "\n",
    "data = response.json()"
   ]
  },
  {
   "cell_type": "code",
   "execution_count": null,
   "id": "862b75c8",
   "metadata": {},
   "outputs": [
    {
     "data": {
      "text/plain": [
       "dict_keys(['typeMatches', 'filters', 'appIndex', 'responseLastUpdated'])"
      ]
     },
     "execution_count": 4,
     "metadata": {},
     "output_type": "execute_result"
    }
   ],
   "source": [
    "data.keys()\n",
    "\n"
   ]
  },
  {
   "cell_type": "code",
   "execution_count": 7,
   "id": "569de2bc",
   "metadata": {},
   "outputs": [
    {
     "name": "stdout",
     "output_type": "stream",
     "text": [
      "{'matchType': 'International', 'seriesMatches': [{'seriesAdWrapper': {'seriesId': 10587, 'seriesName': 'Asia Cup 2025', 'matches': [{'matchInfo': {'matchId': 130074, 'seriesId': 10587, 'seriesName': 'Asia Cup 2025', 'matchDesc': '7th Match, Group A', 'matchFormat': 'T20', 'startDate': '1757937600000', 'endDate': '1757950200000', 'state': 'Innings Break', 'status': 'Innings Break', 'team1': {'teamId': 7, 'teamName': 'United Arab Emirates', 'teamSName': 'UAE', 'imageId': 172121}, 'team2': {'teamId': 304, 'teamName': 'Oman', 'teamSName': 'OMAN', 'imageId': 172353}, 'venueInfo': {'id': 94, 'ground': 'Sheikh Zayed Stadium', 'city': 'Abu Dhabi', 'timezone': '+04:00', 'latitude': '24.416138', 'longitude': '54.453566'}, 'currBatTeamId': 7, 'seriesStartDt': '1757289600000', 'seriesEndDt': '1759104000000', 'isTimeAnnounced': True, 'stateTitle': 'Ings Break'}, 'matchScore': {'team1Score': {'inngs1': {'inningsId': 1, 'runs': 172, 'wickets': 5, 'overs': 19.6}}}}]}}, {'seriesAdWrapper': {'seriesId': 10928, 'seriesName': 'Namibia tour of Zimbabwe 2025', 'matches': [{'matchInfo': {'matchId': 134711, 'seriesId': 10928, 'seriesName': 'Namibia tour of Zimbabwe 2025', 'matchDesc': '1st T20I', 'matchFormat': 'T20', 'startDate': '1757921400000', 'endDate': '1757934000000', 'state': 'Complete', 'status': 'Zimbabwe won by 33 runs', 'team1': {'teamId': 12, 'teamName': 'Zimbabwe', 'teamSName': 'ZIM', 'imageId': 172127}, 'team2': {'teamId': 161, 'teamName': 'Namibia', 'teamSName': 'NAM', 'imageId': 172229}, 'venueInfo': {'id': 70, 'ground': 'Queens Sports Club', 'city': 'Bulawayo', 'timezone': '+02:00', 'latitude': '-20.145151', 'longitude': '28.588901'}, 'currBatTeamId': 12, 'seriesStartDt': '1757808000000', 'seriesEndDt': '1758240000000', 'isTimeAnnounced': True, 'stateTitle': 'Complete'}, 'matchScore': {'team1Score': {'inngs1': {'inningsId': 1, 'runs': 211, 'wickets': 3, 'overs': 19.6}}, 'team2Score': {'inngs1': {'inningsId': 2, 'runs': 178, 'wickets': 7, 'overs': 19.6}}}}]}}]}\n"
     ]
    }
   ],
   "source": [
    "typematches = data['typeMatches']\n",
    "print(typematches[0])"
   ]
  },
  {
   "cell_type": "code",
   "execution_count": 9,
   "id": "2e1cc1a0",
   "metadata": {},
   "outputs": [
    {
     "name": "stdout",
     "output_type": "stream",
     "text": [
      "{'seriesAdWrapper': {'seriesId': 10587, 'seriesName': 'Asia Cup 2025', 'matches': [{'matchInfo': {'matchId': 130074, 'seriesId': 10587, 'seriesName': 'Asia Cup 2025', 'matchDesc': '7th Match, Group A', 'matchFormat': 'T20', 'startDate': '1757937600000', 'endDate': '1757950200000', 'state': 'Innings Break', 'status': 'Innings Break', 'team1': {'teamId': 7, 'teamName': 'United Arab Emirates', 'teamSName': 'UAE', 'imageId': 172121}, 'team2': {'teamId': 304, 'teamName': 'Oman', 'teamSName': 'OMAN', 'imageId': 172353}, 'venueInfo': {'id': 94, 'ground': 'Sheikh Zayed Stadium', 'city': 'Abu Dhabi', 'timezone': '+04:00', 'latitude': '24.416138', 'longitude': '54.453566'}, 'currBatTeamId': 7, 'seriesStartDt': '1757289600000', 'seriesEndDt': '1759104000000', 'isTimeAnnounced': True, 'stateTitle': 'Ings Break'}, 'matchScore': {'team1Score': {'inngs1': {'inningsId': 1, 'runs': 172, 'wickets': 5, 'overs': 19.6}}}}]}}\n"
     ]
    }
   ],
   "source": [
    "seriesmatches = typematches[0]['seriesMatches']\n",
    "print(seriesmatches[0])"
   ]
  },
  {
   "cell_type": "code",
   "execution_count": 10,
   "id": "94d51e41",
   "metadata": {},
   "outputs": [
    {
     "name": "stdout",
     "output_type": "stream",
     "text": [
      "{'seriesId': 10587, 'seriesName': 'Asia Cup 2025', 'matches': [{'matchInfo': {'matchId': 130074, 'seriesId': 10587, 'seriesName': 'Asia Cup 2025', 'matchDesc': '7th Match, Group A', 'matchFormat': 'T20', 'startDate': '1757937600000', 'endDate': '1757950200000', 'state': 'Innings Break', 'status': 'Innings Break', 'team1': {'teamId': 7, 'teamName': 'United Arab Emirates', 'teamSName': 'UAE', 'imageId': 172121}, 'team2': {'teamId': 304, 'teamName': 'Oman', 'teamSName': 'OMAN', 'imageId': 172353}, 'venueInfo': {'id': 94, 'ground': 'Sheikh Zayed Stadium', 'city': 'Abu Dhabi', 'timezone': '+04:00', 'latitude': '24.416138', 'longitude': '54.453566'}, 'currBatTeamId': 7, 'seriesStartDt': '1757289600000', 'seriesEndDt': '1759104000000', 'isTimeAnnounced': True, 'stateTitle': 'Ings Break'}, 'matchScore': {'team1Score': {'inngs1': {'inningsId': 1, 'runs': 172, 'wickets': 5, 'overs': 19.6}}}}]}\n"
     ]
    }
   ],
   "source": [
    "serieswrappers = seriesmatches[0]['seriesAdWrapper']\n",
    "print(serieswrappers)"
   ]
  },
  {
   "cell_type": "code",
   "execution_count": 11,
   "id": "ac2eb8eb",
   "metadata": {},
   "outputs": [
    {
     "name": "stdout",
     "output_type": "stream",
     "text": [
      "{'matchInfo': {'matchId': 130074, 'seriesId': 10587, 'seriesName': 'Asia Cup 2025', 'matchDesc': '7th Match, Group A', 'matchFormat': 'T20', 'startDate': '1757937600000', 'endDate': '1757950200000', 'state': 'Innings Break', 'status': 'Innings Break', 'team1': {'teamId': 7, 'teamName': 'United Arab Emirates', 'teamSName': 'UAE', 'imageId': 172121}, 'team2': {'teamId': 304, 'teamName': 'Oman', 'teamSName': 'OMAN', 'imageId': 172353}, 'venueInfo': {'id': 94, 'ground': 'Sheikh Zayed Stadium', 'city': 'Abu Dhabi', 'timezone': '+04:00', 'latitude': '24.416138', 'longitude': '54.453566'}, 'currBatTeamId': 7, 'seriesStartDt': '1757289600000', 'seriesEndDt': '1759104000000', 'isTimeAnnounced': True, 'stateTitle': 'Ings Break'}, 'matchScore': {'team1Score': {'inngs1': {'inningsId': 1, 'runs': 172, 'wickets': 5, 'overs': 19.6}}}}\n"
     ]
    }
   ],
   "source": [
    "match_list = serieswrappers['matches']\n",
    "first_match = match_list[0]\n",
    "print(first_match)"
   ]
  },
  {
   "cell_type": "code",
   "execution_count": 19,
   "id": "38e164dd",
   "metadata": {},
   "outputs": [
    {
     "name": "stdout",
     "output_type": "stream",
     "text": [
      "Match id : 130074\n",
      "Series Name:  Asia Cup 2025\n",
      "Match Desc:  7th Match, Group A\n",
      "Match Format:  T20\n",
      "Start Date:  1757937600000\n",
      "Team 1:  United Arab Emirates\n",
      "Team 2:  Oman\n"
     ]
    }
   ],
   "source": [
    "match_info = first_match['matchInfo']\n",
    "\n",
    "print(\"Match id :\", match_info['matchId']  )\n",
    "print('Series Name: ', match_info['seriesName']  )\n",
    "print('Match Desc: ', match_info['matchDesc']  )\n",
    "print('Match Format: ', match_info['matchFormat']  )    \n",
    "print('Start Date: ', match_info['startDate']  )\n",
    "\n",
    "print(\"Team 1: \", match_info['team1']['teamName']  )\n",
    "print(\"Team 2: \", match_info['team2']['teamName']  )"
   ]
  },
  {
   "cell_type": "code",
   "execution_count": 3,
   "id": "87515aed",
   "metadata": {},
   "outputs": [],
   "source": [
    "import mysql.connector"
   ]
  },
  {
   "cell_type": "code",
   "execution_count": 6,
   "id": "e8ee84be",
   "metadata": {},
   "outputs": [],
   "source": [
    "conn = mysql.connector.connect(\n",
    "    host=\"localhost\",\n",
    "    user=\"root\",          # or another user\n",
    "    password=\"2741\",\n",
    "    database=\"cricketDB\"  # your DB name\n",
    ")\n",
    "\n",
    "cursor = conn.cursor()\n",
    "\n"
   ]
  },
  {
   "cell_type": "code",
   "execution_count": 7,
   "id": "80d9efbb",
   "metadata": {},
   "outputs": [],
   "source": [
    "mycursor=conn.cursor()"
   ]
  },
  {
   "cell_type": "code",
   "execution_count": 9,
   "id": "5a731f38",
   "metadata": {},
   "outputs": [
    {
     "name": "stdout",
     "output_type": "stream",
     "text": [
      "('cricketdb',)\n",
      "('information_schema',)\n",
      "('mysql',)\n",
      "('performance_schema',)\n",
      "('sys',)\n",
      "('tasschema',)\n"
     ]
    }
   ],
   "source": [
    "mycursor.execute(\"SHOW DATABASES\")\n",
    "for x in mycursor:\n",
    "    print(x)"
   ]
  },
  {
   "cell_type": "code",
   "execution_count": 1,
   "id": "69c4ac08",
   "metadata": {},
   "outputs": [
    {
     "ename": "",
     "evalue": "",
     "output_type": "error",
     "traceback": [
      "\u001b[1;31mThe Kernel crashed while executing code in the current cell or a previous cell. \n",
      "\u001b[1;31mPlease review the code in the cell(s) to identify a possible cause of the failure. \n",
      "\u001b[1;31mClick <a href='https://aka.ms/vscodeJupyterKernelCrash'>here</a> for more info. \n",
      "\u001b[1;31mView Jupyter <a href='command:jupyter.viewOutput'>log</a> for further details."
     ]
    }
   ],
   "source": [
    "!streamlit run app.py"
   ]
  },
  {
   "cell_type": "code",
   "execution_count": 4,
   "id": "91d0dcd2",
   "metadata": {},
   "outputs": [
    {
     "name": "stdout",
     "output_type": "stream",
     "text": [
      "✅ Player data saved into players_data.csv\n"
     ]
    }
   ],
   "source": [
    "import requests\n",
    "import pandas as pd\n",
    "import time\n",
    "\n",
    "HEADERS = {\n",
    "    \"X-RapidAPI-Key\": \"3eaece787amshfe1adf78b14d67bp1c781fjsnebfd830416ef\",\n",
    "    \"X-RapidAPI-Host\": \"cricbuzz-cricket.p.rapidapi.com\"\n",
    "}\n",
    "\n",
    "def get_player_info(pid):\n",
    "    url = f\"https://cricbuzz-cricket.p.rapidapi.com/stats/v1/player/{pid}\"\n",
    "    response = requests.get(url, headers=HEADERS)\n",
    "    return response.json() if response.status_code == 200 else None\n",
    "\n",
    "def get_player_batting(pid):\n",
    "    url = f\"https://cricbuzz-cricket.p.rapidapi.com/stats/v1/player/{pid}/batting\"\n",
    "    response = requests.get(url, headers=HEADERS)\n",
    "    if response.status_code == 200:\n",
    "        # Extract Runs row\n",
    "        runs_row = next((row[\"values\"] for row in response.json()[\"values\"] if row[\"values\"][0] == \"Runs\"), None)\n",
    "        return {\n",
    "            \"TestRuns\": runs_row[1] if runs_row else None,\n",
    "            \"ODIRuns\": runs_row[2] if runs_row else None,\n",
    "            \"T20Runs\": runs_row[3] if runs_row else None,\n",
    "            \"IPLRuns\": runs_row[4] if runs_row else None\n",
    "        }\n",
    "    return {}\n",
    "\n",
    "def fetch_players_data(player_ids):\n",
    "    unique_ids = list(set(player_ids))  # remove duplicates\n",
    "    all_data = []\n",
    "\n",
    "    for pid in unique_ids:\n",
    "        info = get_player_info(pid)\n",
    "        batting = get_player_batting(pid)\n",
    "        if info:\n",
    "            all_data.append({\n",
    "                \"id\": pid,\n",
    "                \"name\": info.get(\"name\"),\n",
    "                \"role\": info.get(\"role\"),\n",
    "                \"team\":info.get(\"team\"),\n",
    "                \"battingStyle\": info.get(\"bat\"),\n",
    "                \"bowlingStyle\": info.get(\"bowl\"),\n",
    "                **batting\n",
    "            })\n",
    "        time.sleep(1)  # avoid rate limit\n",
    "    return all_data\n",
    "player_ids = [\n",
    "    1413,    # Virat Kohli\n",
    "    576,     # Rohit Sharma\n",
    "    11808,   # Shubman Gill\n",
    "    25,      # Sachin Tendulkar\n",
    "    265,     # MS Dhoni\n",
    "    135624,  # Jasprit Bumrah\n",
    "    1593,    # R Ashwin\n",
    "    1447,    # Ajinkya Rahane\n",
    "    9311,    # Ravindra Jadeja\n",
    "    11230,   # KL Rahul\n",
    "    931581,  # Hardik Pandya\n",
    "    6429,    # David Warner\n",
    "    1413,    # Steve Smith\n",
    "    8113,    # Glenn Maxwell\n",
    "    28763,   # Pat Cummins\n",
    "    931581,  # Marcus Stoinis\n",
    "    11233,   # Rishabh Pant\n",
    "    30176,   # Mohammed Shami\n",
    "    7001,    # Kane Williamson\n",
    "    28763,   # Trent Boult\n",
    "    19286,   # Babar Azam\n",
    "    576,     # Shaheen Afridi\n",
    "    11703,   # Fakhar Zaman\n",
    "    931581,  # Mohammad Rizwan\n",
    "    11233,   # Sanju Samson\n",
    "    18221,   # Rashid Khan\n",
    "    8010,    # Shakib Al Hasan\n",
    "    9412,    # Mushfiqur Rahim\n",
    "    9311,    # Litton Das\n",
    "    931581,  # Mustafizur Rahman\n",
    "    931581,  # Mitchell Starc\n",
    "    21182,   # Kagiso Rabada\n",
    "    931581,  # Quinton de Kock\n",
    "    931581,  # AB de Villiers\n",
    "    931581   # Chris Gayle\n",
    "]\n",
    "\n",
    "if __name__ == \"__main__\":\n",
    "    df = pd.DataFrame(fetch_players_data(player_ids))\n",
    "    df.to_csv(\"players_data.csv\", index=False)\n",
    "    print(\"✅ Player data saved into players_data.csv\")\n"
   ]
  },
  {
   "cell_type": "code",
   "execution_count": null,
   "id": "dcbd0f4d",
   "metadata": {},
   "outputs": [],
   "source": []
  }
 ],
 "metadata": {
  "kernelspec": {
   "display_name": ".venv (3.13.7)",
   "language": "python",
   "name": "python3"
  },
  "language_info": {
   "codemirror_mode": {
    "name": "ipython",
    "version": 3
   },
   "file_extension": ".py",
   "mimetype": "text/x-python",
   "name": "python",
   "nbconvert_exporter": "python",
   "pygments_lexer": "ipython3",
   "version": "3.13.7"
  }
 },
 "nbformat": 4,
 "nbformat_minor": 5
}
